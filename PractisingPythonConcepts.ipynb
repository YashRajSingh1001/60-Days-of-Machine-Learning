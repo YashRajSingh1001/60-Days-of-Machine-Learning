{
  "nbformat": 4,
  "nbformat_minor": 0,
  "metadata": {
    "colab": {
      "provenance": []
    },
    "kernelspec": {
      "name": "python3",
      "display_name": "Python 3"
    },
    "language_info": {
      "name": "python"
    }
  },
  "cells": [
    {
      "cell_type": "code",
      "source": [
        "#2nd Jan'24"
      ],
      "metadata": {
        "id": "IHNvNhKHBRd0"
      },
      "execution_count": null,
      "outputs": []
    },
    {
      "cell_type": "code",
      "execution_count": 1,
      "metadata": {
        "colab": {
          "base_uri": "https://localhost:8080/"
        },
        "id": "mdRhJHiyBNEB",
        "outputId": "b46d9ce7-a600-4855-9aae-201313842277"
      },
      "outputs": [
        {
          "output_type": "stream",
          "name": "stdout",
          "text": [
            "The number is negative\n"
          ]
        }
      ],
      "source": [
        "#1Write a Python program to check if a number is positive, negative, or zero.\n",
        "def num_check(num):\n",
        "  if num ==0:\n",
        "    print(\"The number is zero\")\n",
        "  elif num>0:\n",
        "    print(\"The number is positive\")\n",
        "  else:\n",
        "    print(\"The number is negative\")\n",
        "\n",
        "\n",
        "num_check(-99999)"
      ]
    },
    {
      "cell_type": "code",
      "source": [
        "#2Write a Python program to find the largest of three numbers.\n",
        "\n",
        "def largest(a,b,c):\n",
        "  if a>=b and a>=c:\n",
        "    print(f\"{a} is the largest number.\")\n",
        "  elif b>=c and b>=a:\n",
        "    print(f\"{b} is the largest number.\")\n",
        "  else:\n",
        "    print(f\"{c} is the largest number.\")\n",
        "\n",
        "largest(1,2,3)\n",
        ""
      ],
      "metadata": {
        "colab": {
          "base_uri": "https://localhost:8080/"
        },
        "id": "e6dHlhwNBppo",
        "outputId": "4d6481ba-5709-4c81-ffff-64811dc9c2d1"
      },
      "execution_count": 3,
      "outputs": [
        {
          "output_type": "stream",
          "name": "stdout",
          "text": [
            "3 is the largest number\n"
          ]
        }
      ]
    },
    {
      "cell_type": "code",
      "source": [
        "#3Factorial of a number\n",
        "def factorial(n):\n",
        "  if n==0:\n",
        "    return 1\n",
        "  else:\n",
        "    return n*factorial(n-1)\n",
        "\n",
        "factorial(5)"
      ],
      "metadata": {
        "colab": {
          "base_uri": "https://localhost:8080/"
        },
        "id": "8lk713oiCXh7",
        "outputId": "fdf73c34-ff5a-4ff4-8814-05308942e439"
      },
      "execution_count": 4,
      "outputs": [
        {
          "output_type": "execute_result",
          "data": {
            "text/plain": [
              "120"
            ]
          },
          "metadata": {},
          "execution_count": 4
        }
      ]
    },
    {
      "cell_type": "code",
      "source": [
        "#4Write a Python program to convert Celsius to Fahrenheit.\n",
        "\n",
        "def temp(n):\n",
        "  return (n)*(9/5) +32\n",
        "\n",
        "temp(30)\n"
      ],
      "metadata": {
        "colab": {
          "base_uri": "https://localhost:8080/"
        },
        "id": "zDN6GpUQCxa_",
        "outputId": "0593f78e-0fdc-42f4-a776-0004b72c38c4"
      },
      "execution_count": 6,
      "outputs": [
        {
          "output_type": "execute_result",
          "data": {
            "text/plain": [
              "86.0"
            ]
          },
          "metadata": {},
          "execution_count": 6
        }
      ]
    },
    {
      "cell_type": "code",
      "source": [
        "#5Write a Python program to find the sum of the first n natural numbers.\n",
        "\n",
        "def sum_n(n):\n",
        "  a=1\n",
        "  d=1\n",
        "  return (n/2)*(2*a + (n-1)*d)\n",
        "\n",
        "sum_n(5)"
      ],
      "metadata": {
        "colab": {
          "base_uri": "https://localhost:8080/"
        },
        "id": "PRii38luDrBN",
        "outputId": "ca63bc8f-f782-45d8-9fe2-ab957a04b29a"
      },
      "execution_count": 9,
      "outputs": [
        {
          "output_type": "execute_result",
          "data": {
            "text/plain": [
              "15.0"
            ]
          },
          "metadata": {},
          "execution_count": 9
        }
      ]
    },
    {
      "cell_type": "code",
      "source": [
        "#6Leap year\n",
        "\n",
        "def leap(n):\n",
        "  if (n%4==0 and n%100!=0) or (n%400==0):\n",
        "    print('Leap Year')\n",
        "  else:\n",
        "    print('Not a Leap Year')\n",
        "\n",
        "leap(2024)"
      ],
      "metadata": {
        "colab": {
          "base_uri": "https://localhost:8080/"
        },
        "id": "39nOJEf2EflL",
        "outputId": "fb1ef91a-9111-4a08-b952-7babb361d2d2"
      },
      "execution_count": 11,
      "outputs": [
        {
          "output_type": "stream",
          "name": "stdout",
          "text": [
            "Leap Year\n"
          ]
        }
      ]
    },
    {
      "cell_type": "code",
      "source": [
        "#7Reversing a string\n",
        "\n",
        "def rev(n):\n",
        "  return n[::-1]\n",
        "\n",
        "rev('abc')"
      ],
      "metadata": {
        "colab": {
          "base_uri": "https://localhost:8080/",
          "height": 35
        },
        "id": "GwRYC4q2FMs6",
        "outputId": "b45830ea-4c36-4e7f-ee16-4f2af890e9fb"
      },
      "execution_count": 16,
      "outputs": [
        {
          "output_type": "execute_result",
          "data": {
            "text/plain": [
              "'cba'"
            ],
            "application/vnd.google.colaboratory.intrinsic+json": {
              "type": "string"
            }
          },
          "metadata": {},
          "execution_count": 16
        }
      ]
    },
    {
      "cell_type": "code",
      "source": [
        "#8Create a new list containing the squares of the first 10 positive integers using a list comprehension. Print the new list.\n",
        "x=list(range(1,11))\n",
        "[i**2 for i in x]"
      ],
      "metadata": {
        "colab": {
          "base_uri": "https://localhost:8080/"
        },
        "id": "vV38vOa5FZR0",
        "outputId": "ccaf9f54-ac4d-4d98-9cf3-f13b777b5134"
      },
      "execution_count": 21,
      "outputs": [
        {
          "output_type": "execute_result",
          "data": {
            "text/plain": [
              "[1, 4, 9, 16, 25, 36, 49, 64, 81, 100]"
            ]
          },
          "metadata": {},
          "execution_count": 21
        }
      ]
    },
    {
      "cell_type": "code",
      "source": [
        "#9Filtering even numbers from the list\n",
        "x=list(range(1,11))\n",
        "[i for i in x if i%2==0]"
      ],
      "metadata": {
        "colab": {
          "base_uri": "https://localhost:8080/"
        },
        "id": "zA_kdr8nFbF7",
        "outputId": "824a3abb-5e7a-4f7e-8d12-b221bbd5eb03"
      },
      "execution_count": 22,
      "outputs": [
        {
          "output_type": "execute_result",
          "data": {
            "text/plain": [
              "[2, 4, 6, 8, 10]"
            ]
          },
          "metadata": {},
          "execution_count": 22
        }
      ]
    },
    {
      "cell_type": "code",
      "source": [
        "#10Sort the below mentioned based on the score.\n",
        "students = [\n",
        "    {'name': 'Alice', 'score': 88},\n",
        "    {'name': 'Bob', 'score': 72},\n",
        "    {'name': 'Charlie', 'score': 95},\n",
        "    {'name': 'David', 'score': 65},\n",
        "    {'name': 'Eve', 'score': 78}\n",
        "]\n",
        "\n",
        "sorted_students = sorted(students, key=lambda x: x['score'], reverse=True)\n",
        "for i in sorted_students:\n",
        "  print(i)"
      ],
      "metadata": {
        "colab": {
          "base_uri": "https://localhost:8080/"
        },
        "id": "RbdLfX41HL5K",
        "outputId": "6c863bac-a232-4c4c-9e32-664275b49826"
      },
      "execution_count": 28,
      "outputs": [
        {
          "output_type": "stream",
          "name": "stdout",
          "text": [
            "{'name': 'Charlie', 'score': 95}\n",
            "{'name': 'Alice', 'score': 88}\n",
            "{'name': 'Eve', 'score': 78}\n",
            "{'name': 'Bob', 'score': 72}\n",
            "{'name': 'David', 'score': 65}\n"
          ]
        }
      ]
    },
    {
      "cell_type": "code",
      "source": [
        "#11Matrix Transpose\n",
        "matrix = [\n",
        "    [1, 2, 3,4],\n",
        "    [4, 5, 6,7],\n",
        "    [7, 8, 9,10]\n",
        "]\n",
        "\n",
        "transpose = [[matrix[i][j] for i in range(len(matrix))] for j in range(len(matrix[0]))]\n",
        "print(transpose)"
      ],
      "metadata": {
        "colab": {
          "base_uri": "https://localhost:8080/"
        },
        "id": "DNYkqK2EH1fA",
        "outputId": "1176e3b0-e26b-4403-f6d0-e6f3bb280c20"
      },
      "execution_count": 38,
      "outputs": [
        {
          "output_type": "stream",
          "name": "stdout",
          "text": [
            "[[1, 4, 7], [2, 5, 8], [3, 6, 9], [4, 7, 10]]\n"
          ]
        }
      ]
    },
    {
      "cell_type": "code",
      "source": [
        "#12Flattend List\n",
        "nested_list = [\n",
        "    [1, 2, 3],\n",
        "    [4, 5, 6],\n",
        "    [7, 8, 9]\n",
        "]\n",
        "\n",
        "# x=[]\n",
        "# for i in range(len(nested_list)):\n",
        "#    for j in range(len(nested_list[i])):\n",
        "#     x.append(nested_list[i][j])\n",
        "\n",
        "flattened_list = [item for sublist in nested_list for item in sublist]\n",
        "print(flattened_list)"
      ],
      "metadata": {
        "colab": {
          "base_uri": "https://localhost:8080/"
        },
        "id": "_Gc1Rw6qLqOI",
        "outputId": "d3e7bcfb-1e75-4e75-9d10-72036c7d2c71"
      },
      "execution_count": 48,
      "outputs": [
        {
          "output_type": "execute_result",
          "data": {
            "text/plain": [
              "[1, 2, 3, 4, 5, 6, 7, 8, 9]"
            ]
          },
          "metadata": {},
          "execution_count": 48
        }
      ]
    },
    {
      "cell_type": "code",
      "source": [
        "flattened_list = [item for sublist in nested_list for item in sublist]\n",
        "print(flattened_list)"
      ],
      "metadata": {
        "colab": {
          "base_uri": "https://localhost:8080/"
        },
        "id": "5dbI8U8XMwox",
        "outputId": "7ae51217-fbd1-4cf4-a20e-6f8c1f9064c5"
      },
      "execution_count": 46,
      "outputs": [
        {
          "output_type": "stream",
          "name": "stdout",
          "text": [
            "[1, 2, 3, 4, 5, 6, 7, 8, 9]\n"
          ]
        }
      ]
    },
    {
      "cell_type": "code",
      "source": [
        "#11Matrix Multiplication\n",
        "a = [\n",
        "    [1, 2],\n",
        "    [4, 5],\n",
        "    [7, 8]\n",
        "]\n",
        "\n",
        "b = [\n",
        "    [1,2,3],\n",
        "    [4,5,6],\n",
        "]\n",
        "\n",
        "result = [[0 for i in range(len(a))] for i in range(len(b[0]))]\n",
        "print(result)\n",
        "\n",
        "for i in range(len(a)):\n",
        "  for j in range(len(b[0])):\n",
        "    for k in range(len(b)):\n",
        "      result[i][j] += a[i][k] * b[k][j]\n",
        "\n",
        "print(result)"
      ],
      "metadata": {
        "colab": {
          "base_uri": "https://localhost:8080/"
        },
        "id": "aBb626c8NPtc",
        "outputId": "d2413dee-6590-49b8-c29f-a16b7babbbd3"
      },
      "execution_count": 7,
      "outputs": [
        {
          "output_type": "stream",
          "name": "stdout",
          "text": [
            "[[0, 0, 0], [0, 0, 0], [0, 0, 0]]\n",
            "[[9, 12, 15], [24, 33, 42], [39, 54, 69]]\n"
          ]
        }
      ]
    },
    {
      "cell_type": "code",
      "source": [],
      "metadata": {
        "id": "-wlz_K4OP7tc"
      },
      "execution_count": 6,
      "outputs": []
    },
    {
      "cell_type": "code",
      "source": [],
      "metadata": {
        "id": "Fvc9aGw7cwMI"
      },
      "execution_count": null,
      "outputs": []
    }
  ]
}