{
 "cells": [
  {
   "cell_type": "code",
   "execution_count": 5,
   "metadata": {},
   "outputs": [],
   "source": [
    "import pandas as pd\n",
    "import requests"
   ]
  },
  {
   "cell_type": "code",
   "execution_count": 10,
   "metadata": {},
   "outputs": [],
   "source": [
    "response_data = requests.get(\"https://api.themoviedb.org/3/movie/157336?api_key=f9de2f5d62920284dd0d202a04be441d&append_to_response=videos\")"
   ]
  },
  {
   "cell_type": "code",
   "execution_count": 18,
   "metadata": {},
   "outputs": [
    {
     "data": {
      "text/plain": [
       "[{'id': 923,\n",
       "  'logo_path': '/8M99Dkt23MjQMTTWukq4m5XsEuo.png',\n",
       "  'name': 'Legendary Pictures',\n",
       "  'origin_country': 'US'},\n",
       " {'id': 9996,\n",
       "  'logo_path': '/3tvBqYsBhxWeHlu62SIJ1el93O7.png',\n",
       "  'name': 'Syncopy',\n",
       "  'origin_country': 'GB'},\n",
       " {'id': 13769,\n",
       "  'logo_path': None,\n",
       "  'name': 'Lynda Obst Productions',\n",
       "  'origin_country': 'US'}]"
      ]
     },
     "execution_count": 18,
     "metadata": {},
     "output_type": "execute_result"
    }
   ],
   "source": [
    "response_data.json()['production_companies']"
   ]
  },
  {
   "cell_type": "code",
   "execution_count": 20,
   "metadata": {},
   "outputs": [],
   "source": [
    "data = pd.DataFrame(response_data.json()[\"production_companies\"])"
   ]
  },
  {
   "cell_type": "code",
   "execution_count": 22,
   "metadata": {},
   "outputs": [
    {
     "data": {
      "text/html": [
       "<div>\n",
       "<style scoped>\n",
       "    .dataframe tbody tr th:only-of-type {\n",
       "        vertical-align: middle;\n",
       "    }\n",
       "\n",
       "    .dataframe tbody tr th {\n",
       "        vertical-align: top;\n",
       "    }\n",
       "\n",
       "    .dataframe thead th {\n",
       "        text-align: right;\n",
       "    }\n",
       "</style>\n",
       "<table border=\"1\" class=\"dataframe\">\n",
       "  <thead>\n",
       "    <tr style=\"text-align: right;\">\n",
       "      <th></th>\n",
       "      <th>id</th>\n",
       "      <th>logo_path</th>\n",
       "      <th>name</th>\n",
       "      <th>origin_country</th>\n",
       "    </tr>\n",
       "  </thead>\n",
       "  <tbody>\n",
       "    <tr>\n",
       "      <th>0</th>\n",
       "      <td>923</td>\n",
       "      <td>/8M99Dkt23MjQMTTWukq4m5XsEuo.png</td>\n",
       "      <td>Legendary Pictures</td>\n",
       "      <td>US</td>\n",
       "    </tr>\n",
       "    <tr>\n",
       "      <th>1</th>\n",
       "      <td>9996</td>\n",
       "      <td>/3tvBqYsBhxWeHlu62SIJ1el93O7.png</td>\n",
       "      <td>Syncopy</td>\n",
       "      <td>GB</td>\n",
       "    </tr>\n",
       "  </tbody>\n",
       "</table>\n",
       "</div>"
      ],
      "text/plain": [
       "     id                         logo_path                name origin_country\n",
       "0   923  /8M99Dkt23MjQMTTWukq4m5XsEuo.png  Legendary Pictures             US\n",
       "1  9996  /3tvBqYsBhxWeHlu62SIJ1el93O7.png             Syncopy             GB"
      ]
     },
     "execution_count": 22,
     "metadata": {},
     "output_type": "execute_result"
    }
   ],
   "source": [
    "data.head(2)"
   ]
  },
  {
   "cell_type": "code",
   "execution_count": null,
   "metadata": {},
   "outputs": [],
   "source": []
  }
 ],
 "metadata": {
  "kernelspec": {
   "display_name": "Python 3",
   "language": "python",
   "name": "python3"
  },
  "language_info": {
   "codemirror_mode": {
    "name": "ipython",
    "version": 3
   },
   "file_extension": ".py",
   "mimetype": "text/x-python",
   "name": "python",
   "nbconvert_exporter": "python",
   "pygments_lexer": "ipython3",
   "version": "3.12.6"
  }
 },
 "nbformat": 4,
 "nbformat_minor": 2
}
