{
 "cells": [
  {
   "cell_type": "code",
   "execution_count": 2,
   "metadata": {},
   "outputs": [],
   "source": [
    "import pandas as pd\n",
    "import requests\n",
    "from bs4 import BeautifulSoup"
   ]
  },
  {
   "cell_type": "code",
   "execution_count": 3,
   "metadata": {},
   "outputs": [],
   "source": [
    "url = \"https://www.amazon.com/s?k=casio+vintage+watches&crid=2YIR1WZBMGT6M&sprefix=%2Caps%2C260&ref=nb_sb_ss_recent_1_0_recent\""
   ]
  },
  {
   "cell_type": "code",
   "execution_count": 4,
   "metadata": {},
   "outputs": [],
   "source": [
    "header = ({'User-Agent':\"Mozilla/5.0 (Windows NT 10.0; Win64; x64) AppleWebKit/537.36 (KHTML, like Gecko) Chrome/128.0.0.0 Safari/537.36\",\n",
    "           'Accept-Language':'en-US, en;q=0.5'})"
   ]
  },
  {
   "cell_type": "code",
   "execution_count": 5,
   "metadata": {},
   "outputs": [],
   "source": [
    "webpage = requests.get(url, headers=header)\n",
    "type(webpage.content)\n",
    "\n",
    "#Soup object containing all data\n",
    "soup = BeautifulSoup(webpage.content, \"html.parser\")"
   ]
  },
  {
   "cell_type": "code",
   "execution_count": 6,
   "metadata": {},
   "outputs": [],
   "source": [
    "#Fetch links as List of Tag Objects\n",
    "links = soup.find_all(\"a\", attrs={'class':\"a-link-normal s-underline-text s-underline-link-text s-link-style a-text-normal\"})"
   ]
  },
  {
   "cell_type": "code",
   "execution_count": 7,
   "metadata": {},
   "outputs": [
    {
     "data": {
      "text/plain": [
       "'https://amazon.com/Casio-A158WA-1-Water-Resistant-Digital/dp/B000GAYQJ0/ref=sr_1_1?crid=2YIR1WZBMGT6M&dib=eyJ2IjoiMSJ9.YhkgJE0YhLAKsUv321947Zs4MH74yjWeNt6P-TvOB3nIdtCjLBZrVCMKc4jH6h6bVNk61C5QuhplUu5WwvbdGSeLrB0EquVcKIiagDWXugGreRk7nz8NjUv062pgx7zwwuxabuWRk_BK3Tyoe_U3GzdK26Yonr-EU3bS3kAl_B5nWhgVcWh80UyM2ao6pjil3bpFivYc96bYBRYwzaqpfflb7WCi9xQgpDKB2TbRYxIM4DdWPRd3oxMw2tcE7ZyaCwD1QYQT7DMrepNw7Em0JDtDDG9Q2syKKxj6FrbO_qc.stBEuGUs_fWgmBeDQUwEbYIG0UMD-d_OxSn4nfbAmug&dib_tag=se&keywords=casio+vintage+watches&qid=1727022286&sprefix=%2Caps%2C260&sr=8-1'"
      ]
     },
     "execution_count": 7,
     "metadata": {},
     "output_type": "execute_result"
    }
   ],
   "source": [
    "link = links[0].get('href')\n",
    "product_list = \"https://amazon.com\" + link\n",
    "product_list"
   ]
  },
  {
   "cell_type": "code",
   "execution_count": 8,
   "metadata": {},
   "outputs": [],
   "source": [
    "new_webpage = requests.get(product_list, headers = header)\n",
    "new_soup = BeautifulSoup(new_webpage.content, \"html.parser\")"
   ]
  },
  {
   "cell_type": "code",
   "execution_count": 9,
   "metadata": {},
   "outputs": [],
   "source": [
    "def get_title(soup):\n",
    "    try:\n",
    "        title = soup.find(\"span\", attrs={\"id\":\"productTitle\"})\n",
    "        title_value = title.text\n",
    "        title_string = title_value.strip()\n",
    "    except AttributeError:\n",
    "        title_string=\"\"\n",
    "    \n",
    "    return title_string \n",
    "\n",
    "def get_price(soup):\n",
    "    try:\n",
    "        price = soup.find(\"span\", attrs={\"class\": \"a-price-whole\"}).text.strip()+soup.find(\"span\", attrs={\"class\": \"a-price-fraction\"}).text.strip()\n",
    "    except AttributeError:\n",
    "        price=\"\"\n",
    "    \n",
    "    return price\n",
    "\n",
    "def get_rating(soup):\n",
    "    try:\n",
    "        rating = soup.find(\"span\", attrs={\"class\": 'a-size-base a-color-base'}).text.strip()\n",
    "    except AttributeError:\n",
    "        rating=\"\"\n",
    "    \n",
    "    return rating\n",
    "\n",
    "def total_ratings(soup):\n",
    "    try:\n",
    "        total_ratings = soup.find(\"span\", attrs={\"id\": 'acrCustomerReviewText'}).text.strip()\n",
    "    except AttributeError:\n",
    "        total_ratings=\"\"\n",
    "    \n",
    "    return total_ratings\n",
    "\n",
    "def material(soup):\n",
    "    try:\n",
    "       material = soup.find(\"span\", attrs={\"style\": 'font-weight: 400;'}).text.strip()\n",
    "    except AttributeError:\n",
    "        material=\"\"\n",
    "    \n",
    "    return material"
   ]
  },
  {
   "cell_type": "code",
   "execution_count": 10,
   "metadata": {},
   "outputs": [
    {
     "data": {
      "text/plain": [
       "\"Casio Men's Vintage A158WA-1 Water Resistant Digital Watch\""
      ]
     },
     "execution_count": 10,
     "metadata": {},
     "output_type": "execute_result"
    }
   ],
   "source": [
    "get_title(new_soup)"
   ]
  },
  {
   "cell_type": "code",
   "execution_count": 11,
   "metadata": {},
   "outputs": [
    {
     "data": {
      "text/plain": [
       "'20.99'"
      ]
     },
     "execution_count": 11,
     "metadata": {},
     "output_type": "execute_result"
    }
   ],
   "source": [
    "get_price(new_soup)"
   ]
  },
  {
   "cell_type": "code",
   "execution_count": 12,
   "metadata": {},
   "outputs": [
    {
     "data": {
      "text/plain": [
       "'4.6'"
      ]
     },
     "execution_count": 12,
     "metadata": {},
     "output_type": "execute_result"
    }
   ],
   "source": [
    "get_rating(new_soup)"
   ]
  },
  {
   "cell_type": "code",
   "execution_count": 13,
   "metadata": {},
   "outputs": [
    {
     "data": {
      "text/plain": [
       "'43,789 ratings'"
      ]
     },
     "execution_count": 13,
     "metadata": {},
     "output_type": "execute_result"
    }
   ],
   "source": [
    "total_ratings(new_soup)"
   ]
  },
  {
   "cell_type": "code",
   "execution_count": 14,
   "metadata": {},
   "outputs": [
    {
     "data": {
      "text/plain": [
       "'Resin'"
      ]
     },
     "execution_count": 14,
     "metadata": {},
     "output_type": "execute_result"
    }
   ],
   "source": [
    "material(new_soup)"
   ]
  }
 ],
 "metadata": {
  "kernelspec": {
   "display_name": "Python 3",
   "language": "python",
   "name": "python3"
  },
  "language_info": {
   "codemirror_mode": {
    "name": "ipython",
    "version": 3
   },
   "file_extension": ".py",
   "mimetype": "text/x-python",
   "name": "python",
   "nbconvert_exporter": "python",
   "pygments_lexer": "ipython3",
   "version": "3.12.6"
  }
 },
 "nbformat": 4,
 "nbformat_minor": 2
}
